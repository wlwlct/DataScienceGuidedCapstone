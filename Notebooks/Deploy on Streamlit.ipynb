{
 "cells": [
  {
   "cell_type": "code",
   "execution_count": 42,
   "source": [
    "import pickle\n",
    "#import streamlit as st\n",
    "import pandas as pd\n",
    " \n",
    "# loading the trained model\n",
    "with open('../models/ski_resort_pricing_model.pkl', 'rb') as pickle_in:\n",
    "    model = pickle.load(pickle_in)\n",
    "\n",
    "ski_data = pd.read_csv('../data/ski_data_step3_features.csv')\n",
    "\n",
    "# defining the function which will make the prediction using the data which the user inputs \n",
    "def prediction(**kwargs):   \n",
    "#Refit model\n",
    "    X = ski_data.loc[ski_data.Name != \"Big Mountain Resort\", model.X_columns]\n",
    "    y = ski_data.loc[ski_data.Name != \"Big Mountain Resort\", 'AdultWeekend']\n",
    "    model.fit(X, y)\n",
    "\n",
    "    X_bm = ski_data.loc[ski_data.Name == \"Big Mountain Resort\", model.X_columns]\n",
    "    y_bm = ski_data.loc[ski_data.Name == \"Big Mountain Resort\", 'AdultWeekend']\n",
    "    y_bm = y_bm.values.item()\n",
    "    bm_pred = model.predict(X_bm).item()\n",
    "\n",
    "#Assign Features\n",
    "    all_feats = ['vertical_drop', 'total_chairs', 'fastQuads', 'Runs', 'LongestRun_mi', 'trams', 'SkiableTerrain_ac']\n",
    "    f={col:kwargs[col] for col in all_feats if col in kwargs.keys()}\n",
    "    if 'snow_making' in kwargs.keys(): f['Snow Making_ac']=kwargs['snow_making']\n",
    "\n",
    "\n",
    "# Making predictions \n",
    "    def predict_increase(features, deltas):\n",
    "        bm2 = X_bm.copy()\n",
    "        for f, d in zip(features, deltas):\n",
    "            bm2[f] += d\n",
    "        return model.predict(bm2).item() - model.predict(X_bm).item()\n",
    "\n",
    "    return predict_increase(f.keys(), f.values())"
   ],
   "outputs": [],
   "metadata": {}
  },
  {
   "cell_type": "code",
   "execution_count": 43,
   "source": [
    "prediction(Runs=-10)"
   ],
   "outputs": [
    {
     "output_type": "execute_result",
     "data": {
      "text/plain": [
       "-1.8115942028985472"
      ]
     },
     "metadata": {},
     "execution_count": 43
    }
   ],
   "metadata": {}
  },
  {
   "cell_type": "code",
   "execution_count": null,
   "source": [],
   "outputs": [],
   "metadata": {}
  }
 ],
 "metadata": {
  "orig_nbformat": 4,
  "language_info": {
   "name": "python",
   "version": "3.8.8",
   "mimetype": "text/x-python",
   "codemirror_mode": {
    "name": "ipython",
    "version": 3
   },
   "pygments_lexer": "ipython3",
   "nbconvert_exporter": "python",
   "file_extension": ".py"
  },
  "kernelspec": {
   "name": "python3",
   "display_name": "Python 3.8.8 64-bit ('base': conda)"
  },
  "interpreter": {
   "hash": "dca0ade3e726a953b501b15e8e990130d2b7799f14cfd9f4271676035ebe5511"
  }
 },
 "nbformat": 4,
 "nbformat_minor": 2
}